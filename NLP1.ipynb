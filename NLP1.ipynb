{
 "cells": [
  {
   "cell_type": "markdown",
   "metadata": {},
   "source": [
    "# Setup"
   ]
  },
  {
   "cell_type": "code",
   "execution_count": 1,
   "metadata": {},
   "outputs": [
    {
     "name": "stderr",
     "output_type": "stream",
     "text": [
      "INFO:sagemaker:Created S3 bucket: sagemaker-us-east-1-023375022819\n"
     ]
    },
    {
     "name": "stdout",
     "output_type": "stream",
     "text": [
      "arn:aws:iam::023375022819:role/service-role/AmazonSageMaker-ExecutionRole-20181029T121824\n",
      "sagemaker-us-east-1-023375022819\n"
     ]
    }
   ],
   "source": [
    "import sagemaker\n",
    "from sagemaker import get_execution_role\n",
    "import json\n",
    "import boto3\n",
    "import pandas as pd\n",
    "\n",
    "\n",
    "sess = sagemaker.Session()\n",
    "\n",
    "role = get_execution_role()\n",
    "print(role) # This is the role that SageMaker would use to leverage AWS resources (S3, CloudWatch) on your behalf\n",
    "\n",
    "bucket = sess.default_bucket() # Replace with your own bucket name if needed\n",
    "print(bucket)\n",
    "prefix = 'bravesouls/supervised/comment'"
   ]
  },
  {
   "cell_type": "code",
   "execution_count": 2,
   "metadata": {},
   "outputs": [],
   "source": [
    "def prep_data():\n",
    "    !mkdir Data\n",
    "    !aws s3 cp s3://aws-ml-chicago-team-bravesouls/amazon_review_polarity_csv.tgz Data\n",
    "    !tar -xvzf Data/amazon_review_polarity_csv.tgz\n",
    "#prep_data()"
   ]
  },
  {
   "cell_type": "code",
   "execution_count": 8,
   "metadata": {},
   "outputs": [],
   "source": [
    "#!head -100000 amazon_review_polarity_csv/train.csv > amazon_review_polarity_csv/train_100k.csv"
   ]
  },
  {
   "cell_type": "markdown",
   "metadata": {},
   "source": [
    "# Data Processing"
   ]
  },
  {
   "cell_type": "code",
   "execution_count": 2,
   "metadata": {},
   "outputs": [
    {
     "name": "stdout",
     "output_type": "stream",
     "text": [
      "[nltk_data] Downloading package punkt to /home/ec2-user/nltk_data...\n",
      "[nltk_data]   Unzipping tokenizers/punkt.zip.\n"
     ]
    },
    {
     "data": {
      "text/plain": [
       "True"
      ]
     },
     "execution_count": 2,
     "metadata": {},
     "output_type": "execute_result"
    }
   ],
   "source": [
    "from random import shuffle\n",
    "import multiprocessing\n",
    "from multiprocessing import Pool\n",
    "import csv\n",
    "import nltk\n",
    "nltk.download('punkt')"
   ]
  },
  {
   "cell_type": "code",
   "execution_count": 3,
   "metadata": {},
   "outputs": [],
   "source": [
    "def transform_instance(row):\n",
    "    cur_row = []\n",
    "    label = \"__label__\" + row[0]  #Prefix the index-ed label with __label__\n",
    "    cur_row.append(label)\n",
    "    cur_row.extend(nltk.word_tokenize(row[1].lower()+ \" \"+ row[2].lower()))\n",
    "    return cur_row"
   ]
  },
  {
   "cell_type": "code",
   "execution_count": 4,
   "metadata": {},
   "outputs": [],
   "source": [
    "def preprocess(input_file, output_file, keep=1):\n",
    "    all_rows = []\n",
    "    with open(input_file, 'r') as csvinfile:\n",
    "        csv_reader = csv.reader(csvinfile, delimiter=',')\n",
    "        for row in csv_reader:\n",
    "            all_rows.append(row)\n",
    "    shuffle(all_rows)\n",
    "    all_rows = all_rows[:int(keep*len(all_rows))]\n",
    "    pool = Pool(processes=multiprocessing.cpu_count())\n",
    "    transformed_rows = pool.map(transform_instance, all_rows)\n",
    "    pool.close() \n",
    "    pool.join()\n",
    "    \n",
    "    with open(output_file, 'w') as csvoutfile:\n",
    "        csv_writer = csv.writer(csvoutfile, delimiter=' ', lineterminator='\\n')\n",
    "        csv_writer.writerows(transformed_rows)"
   ]
  },
  {
   "cell_type": "code",
   "execution_count": 5,
   "metadata": {},
   "outputs": [
    {
     "name": "stdout",
     "output_type": "stream",
     "text": [
      "CPU times: user 1min 24s, sys: 13 s, total: 1min 37s\n",
      "Wall time: 7min 25s\n"
     ]
    }
   ],
   "source": [
    "%%time\n",
    "# Preparing the training dataset\n",
    "\n",
    "# Since preprocessing the whole dataset might take a couple of mintutes,\n",
    "# we keep 20% of the training dataset for this demo.\n",
    "# Set keep to 1 if you want to use the complete dataset\n",
    "preprocess('amazon_review_polarity_csv/train.csv', 'amazon_review_polarity.train', keep=.5)\n",
    "        \n",
    "# Preparing the validation dataset        \n",
    "preprocess('amazon_review_polarity_csv/test.csv', 'amazon_review_polarity.validation', keep=.5)"
   ]
  },
  {
   "cell_type": "code",
   "execution_count": 6,
   "metadata": {},
   "outputs": [
    {
     "name": "stdout",
     "output_type": "stream",
     "text": [
      "CPU times: user 5.81 s, sys: 4.53 s, total: 10.3 s\n",
      "Wall time: 5.36 s\n"
     ]
    }
   ],
   "source": [
    "%%time\n",
    "\n",
    "train_channel = prefix + '/train'\n",
    "validation_channel = prefix + '/validation'\n",
    "\n",
    "sess.upload_data(path='amazon_review_polarity.train', bucket=bucket, key_prefix=train_channel)\n",
    "sess.upload_data(path='amazon_review_polarity.validation', bucket=bucket, key_prefix=validation_channel)\n",
    "\n",
    "s3_train_data = 's3://{}/{}'.format(bucket, train_channel)\n",
    "s3_validation_data = 's3://{}/{}'.format(bucket, validation_channel)"
   ]
  },
  {
   "cell_type": "code",
   "execution_count": 7,
   "metadata": {},
   "outputs": [],
   "source": [
    "s3_output_location = 's3://{}/{}/output'.format(bucket, prefix)"
   ]
  },
  {
   "cell_type": "code",
   "execution_count": 8,
   "metadata": {},
   "outputs": [],
   "source": [
    "region_name = boto3.Session().region_name"
   ]
  },
  {
   "cell_type": "code",
   "execution_count": 9,
   "metadata": {},
   "outputs": [
    {
     "name": "stdout",
     "output_type": "stream",
     "text": [
      "Using SageMaker BlazingText container: 811284229777.dkr.ecr.us-east-1.amazonaws.com/blazingtext:latest (us-east-1)\n"
     ]
    }
   ],
   "source": [
    "container = sagemaker.amazon.amazon_estimator.get_image_uri(region_name, \"blazingtext\", \"latest\")\n",
    "print('Using SageMaker BlazingText container: {} ({})'.format(container, region_name))"
   ]
  },
  {
   "cell_type": "code",
   "execution_count": 10,
   "metadata": {},
   "outputs": [],
   "source": [
    "bt_model = sagemaker.estimator.Estimator(container,\n",
    "                                         role, \n",
    "                                         base_job_name= \"Gaj-BraveSouls\",\n",
    "                                         train_instance_count=1, \n",
    "                                         train_instance_type='ml.c4.4xlarge',\n",
    "                                         train_volume_size = 30,\n",
    "                                         train_max_run = 360000,\n",
    "                                         input_mode= 'File',\n",
    "                                         output_path=s3_output_location,\n",
    "                                         sagemaker_session=sess)"
   ]
  },
  {
   "cell_type": "code",
   "execution_count": 11,
   "metadata": {},
   "outputs": [],
   "source": [
    "bt_model.set_hyperparameters(mode=\"supervised\",\n",
    "                            epochs=10,\n",
    "                            min_count=2,\n",
    "                            learning_rate=0.05,\n",
    "                            vector_dim=10,\n",
    "                            early_stopping=True,\n",
    "                            patience=4,\n",
    "                            min_epochs=5,\n",
    "                            word_ngrams=2)"
   ]
  },
  {
   "cell_type": "code",
   "execution_count": 12,
   "metadata": {},
   "outputs": [],
   "source": [
    "train_data = sagemaker.session.s3_input(s3_train_data, distribution='FullyReplicated', \n",
    "                        content_type='text/plain', s3_data_type='S3Prefix')\n",
    "validation_data = sagemaker.session.s3_input(s3_validation_data, distribution='FullyReplicated', \n",
    "                             content_type='text/plain', s3_data_type='S3Prefix')\n",
    "data_channels = {'train': train_data, 'validation': validation_data}"
   ]
  },
  {
   "cell_type": "code",
   "execution_count": 13,
   "metadata": {},
   "outputs": [
    {
     "name": "stderr",
     "output_type": "stream",
     "text": [
      "INFO:sagemaker:Creating training-job with name: Gaj-BraveSouls-2019-01-10-03-55-21-591\n"
     ]
    },
    {
     "name": "stdout",
     "output_type": "stream",
     "text": [
      "2019-01-10 03:55:21 Starting - Starting the training job...\n",
      "2019-01-10 03:55:22 Starting - Launching requested ML instances......\n",
      "2019-01-10 03:56:29 Starting - Preparing the instances for training...\n",
      "2019-01-10 03:57:10 Downloading - Downloading input data..\n",
      "\u001b[31mArguments: train\u001b[0m\n",
      "\u001b[31m[01/10/2019 03:57:34 WARNING 140573396776768] Loggers have already been setup.\u001b[0m\n",
      "\u001b[31m[01/10/2019 03:57:34 WARNING 140573396776768] Loggers have already been setup.\u001b[0m\n",
      "\u001b[31m[01/10/2019 03:57:34 INFO 140573396776768] nvidia-smi took: 0.0251839160919 secs to identify 0 gpus\u001b[0m\n",
      "\u001b[31m[01/10/2019 03:57:34 INFO 140573396776768] Running single machine CPU BlazingText training using supervised mode.\u001b[0m\n",
      "\u001b[31m[01/10/2019 03:57:34 INFO 140573396776768] Processing /opt/ml/input/data/train/amazon_review_polarity.train . File size: 781 MB\u001b[0m\n",
      "\u001b[31m[01/10/2019 03:57:34 INFO 140573396776768] Processing /opt/ml/input/data/validation/amazon_review_polarity.validation . File size: 86 MB\u001b[0m\n",
      "\u001b[31mRead 10M words\u001b[0m\n",
      "\u001b[31mRead 20M words\u001b[0m\n",
      "\u001b[31mRead 30M words\u001b[0m\n",
      "\u001b[31mRead 40M words\u001b[0m\n",
      "\u001b[31mRead 50M words\u001b[0m\n",
      "\u001b[31mRead 60M words\u001b[0m\n",
      "\n",
      "2019-01-10 03:57:33 Training - Training image download completed. Training in progress.\u001b[31mRead 70M words\u001b[0m\n",
      "\u001b[31mRead 80M words\u001b[0m\n",
      "\u001b[31mRead 90M words\u001b[0m\n",
      "\u001b[31mRead 100M words\u001b[0m\n",
      "\u001b[31mRead 110M words\u001b[0m\n",
      "\u001b[31mRead 120M words\u001b[0m\n",
      "\u001b[31mRead 130M words\u001b[0m\n",
      "\u001b[31mRead 140M words\u001b[0m\n",
      "\u001b[31mRead 150M words\u001b[0m\n",
      "\u001b[31mRead 160M words\u001b[0m\n",
      "\u001b[31mRead 165M words\u001b[0m\n",
      "\u001b[31mNumber of words:  406433\u001b[0m\n",
      "\u001b[31mLoading validation data from /opt/ml/input/data/validation/amazon_review_polarity.validation\u001b[0m\n",
      "\u001b[31mLoaded validation data.\u001b[0m\n",
      "\u001b[31m##### Alpha: 0.0449  Progress: 10.17%  Million Words/sec: 39.63 #####\u001b[0m\n",
      "\u001b[31m-------------- End of epoch: 1\u001b[0m\n",
      "\u001b[31m##### Alpha: 0.0424  Progress: 15.24%  Million Words/sec: 40.37 #####\u001b[0m\n",
      "\u001b[31m-------------- End of epoch: 2\u001b[0m\n",
      "\u001b[31m##### Alpha: 0.0398  Progress: 20.30%  Million Words/sec: 40.75 #####\u001b[0m\n",
      "\u001b[31m##### Alpha: 0.0373  Progress: 25.38%  Million Words/sec: 40.99 #####\u001b[0m\n",
      "\u001b[31m-------------- End of epoch: 3\u001b[0m\n",
      "\u001b[31m##### Alpha: 0.0348  Progress: 30.44%  Million Words/sec: 41.14 #####\u001b[0m\n",
      "\u001b[31m##### Alpha: 0.0323  Progress: 35.49%  Million Words/sec: 41.23 #####\u001b[0m\n",
      "\u001b[31m-------------- End of epoch: 4\u001b[0m\n",
      "\u001b[31m##### Alpha: 0.0297  Progress: 40.55%  Million Words/sec: 41.31 #####\u001b[0m\n",
      "\u001b[31m##### Alpha: 0.0272  Progress: 45.62%  Million Words/sec: 41.38 #####\u001b[0m\n",
      "\u001b[31m-------------- End of epoch: 5\u001b[0m\n",
      "\u001b[31mUsing 16 threads for prediction!\u001b[0m\n",
      "\u001b[31mValidation accuracy: 0.93725\u001b[0m\n",
      "\u001b[31mValidation accuracy improved! Storing best weights...\u001b[0m\n",
      "\u001b[31m##### Alpha: 0.0246  Progress: 50.76%  Million Words/sec: 40.60 #####\u001b[0m\n",
      "\u001b[31m##### Alpha: 0.0221  Progress: 55.83%  Million Words/sec: 40.72 #####\u001b[0m\n",
      "\u001b[31m-------------- End of epoch: 6\u001b[0m\n",
      "\u001b[31mUsing 16 threads for prediction!\u001b[0m\n",
      "\u001b[31mValidation accuracy: 0.936315\u001b[0m\n",
      "\u001b[31mValidation accuracy has not improved for last 1 epochs.\u001b[0m\n",
      "\u001b[31m##### Alpha: 0.0196  Progress: 60.87%  Million Words/sec: 40.38 #####\u001b[0m\n",
      "\u001b[31m##### Alpha: 0.0170  Progress: 65.94%  Million Words/sec: 40.50 #####\u001b[0m\n",
      "\u001b[31m-------------- End of epoch: 7\u001b[0m\n",
      "\u001b[31mUsing 16 threads for prediction!\u001b[0m\n",
      "\u001b[31mValidation accuracy: 0.937755\u001b[0m\n",
      "\u001b[31mValidation accuracy improved! Storing best weights...\u001b[0m\n",
      "\u001b[31m##### Alpha: 0.0144  Progress: 71.12%  Million Words/sec: 40.26 #####\u001b[0m\n",
      "\u001b[31m##### Alpha: 0.0119  Progress: 76.19%  Million Words/sec: 40.36 #####\u001b[0m\n",
      "\u001b[31m-------------- End of epoch: 8\u001b[0m\n",
      "\u001b[31mUsing 16 threads for prediction!\u001b[0m\n",
      "\u001b[31mValidation accuracy: 0.937415\u001b[0m\n",
      "\u001b[31mValidation accuracy has not improved for last 1 epochs.\u001b[0m\n",
      "\u001b[31m##### Alpha: 0.0094  Progress: 81.25%  Million Words/sec: 40.14 #####\u001b[0m\n",
      "\u001b[31m##### Alpha: 0.0068  Progress: 86.32%  Million Words/sec: 40.24 #####\u001b[0m\n",
      "\u001b[31m-------------- End of epoch: 9\u001b[0m\n",
      "\u001b[31mUsing 16 threads for prediction!\u001b[0m\n",
      "\u001b[31mValidation accuracy: 0.93805\u001b[0m\n",
      "\u001b[31mValidation accuracy improved! Storing best weights...\u001b[0m\n",
      "\u001b[31m##### Alpha: 0.0043  Progress: 91.40%  Million Words/sec: 40.01 #####\u001b[0m\n",
      "\u001b[31m##### Alpha: 0.0018  Progress: 96.47%  Million Words/sec: 40.11 #####\u001b[0m\n",
      "\u001b[31m-------------- End of epoch: 10\u001b[0m\n",
      "\u001b[31mUsing 16 threads for prediction!\u001b[0m\n",
      "\u001b[31mValidation accuracy: 0.938755\u001b[0m\n",
      "\u001b[31mValidation accuracy improved! Storing best weights...\u001b[0m\n",
      "\u001b[31m##### Alpha: 0.0000  Progress: 100.00%  Million Words/sec: 39.91 #####\u001b[0m\n",
      "\u001b[31mTraining finished.\u001b[0m\n",
      "\u001b[31mAverage throughput in Million words/sec: 39.91\u001b[0m\n",
      "\u001b[31mTotal training time in seconds: 41.53\n",
      "\u001b[0m\n",
      "\u001b[31m#train_accuracy: 0.9784\u001b[0m\n",
      "\u001b[31mNumber of train examples: 1800000\n",
      "\u001b[0m\n",
      "\u001b[31m#validation_accuracy: 0.9388\u001b[0m\n",
      "\u001b[31mNumber of validation examples: 200000\u001b[0m\n",
      "\n",
      "2019-01-10 03:59:22 Uploading - Uploading generated training model\n",
      "2019-01-10 03:59:22 Completed - Training job completed\n",
      "Billable seconds: 132\n"
     ]
    }
   ],
   "source": [
    "bt_model.fit(inputs=data_channels, logs=True)"
   ]
  },
  {
   "cell_type": "code",
   "execution_count": 14,
   "metadata": {},
   "outputs": [
    {
     "name": "stderr",
     "output_type": "stream",
     "text": [
      "INFO:sagemaker:Creating model with name: blazingtext-2019-01-10-03-59-59-975\n",
      "INFO:sagemaker:Creating endpoint with name Gaj-BraveSouls-2019-01-10-03-55-21-591\n"
     ]
    },
    {
     "name": "stdout",
     "output_type": "stream",
     "text": [
      "----------------------------------------------------------------------------!"
     ]
    }
   ],
   "source": [
    "text_classifier = bt_model.deploy(initial_instance_count = 1,instance_type = 'ml.m4.xlarge')"
   ]
  },
  {
   "cell_type": "code",
   "execution_count": 15,
   "metadata": {},
   "outputs": [],
   "source": [
    "def create_prediction_request(inputs):\n",
    "    # using the same nltk tokenizer that we used during data preparation for training\n",
    "    tokenized_sentences = [' '.join(nltk.word_tokenize(sent)) for sent in inputs]\n",
    "    return json.dumps({\"instances\" : tokenized_sentences})"
   ]
  },
  {
   "cell_type": "code",
   "execution_count": 17,
   "metadata": {},
   "outputs": [
    {
     "name": "stdout",
     "output_type": "stream",
     "text": [
      "[\n",
      "  {\n",
      "    \"prob\": [\n",
      "      1.0000100135803223\n",
      "    ],\n",
      "    \"label\": [\n",
      "      \"__label__1\"\n",
      "    ]\n",
      "  },\n",
      "  {\n",
      "    \"prob\": [\n",
      "      1.0000076293945312\n",
      "    ],\n",
      "    \"label\": [\n",
      "      \"__label__2\"\n",
      "    ]\n",
      "  },\n",
      "  {\n",
      "    \"prob\": [\n",
      "      0.9999821186065674\n",
      "    ],\n",
      "    \"label\": [\n",
      "      \"__label__1\"\n",
      "    ]\n",
      "  },\n",
      "  {\n",
      "    \"prob\": [\n",
      "      1.0000100135803223\n",
      "    ],\n",
      "    \"label\": [\n",
      "      \"__label__2\"\n",
      "    ]\n",
      "  }\n",
      "]\n"
     ]
    }
   ],
   "source": [
    "sentences = [\"This product sucks\",\n",
    "            \"A very good buy. I really recommend\",\n",
    "            \"Bad design. Very hard to use\",\n",
    "            \"I'm very satisfied. The best buy ever!!\"\n",
    "    ]\n",
    "\n",
    "\n",
    "payload=create_prediction_request(sentences)\n",
    "response = text_classifier.predict(payload)\n",
    "predictions = json.loads(response)\n",
    "print(json.dumps(predictions, indent=2))"
   ]
  },
  {
   "cell_type": "code",
   "execution_count": 21,
   "metadata": {},
   "outputs": [],
   "source": [
    "import seaborn as sns\n",
    "\n",
    "label_map={\n",
    "    \"__label__1\":\"-Ve\",\n",
    "    \"__label__2\":'+Ve'\n",
    "}\n",
    "\n",
    "def count_matches(a,b):\n",
    "    return len(get_matches(a,b))\n",
    "\n",
    "def get_matches(a,b):\n",
    "    return [i for i, j in zip(a, b) if i == j]\n",
    "\n",
    "def get_mismatches(a,b):\n",
    "    return [i for i, j in zip(a, b) if i != j]\n",
    "    \n",
    "def evaluate_metrics(predictor, test_features, test_labels):\n",
    "    \"\"\"\n",
    "    Evaluate a model on a test set using the given prediction endpoint. Display classification metrics.\n",
    "    \"\"\"\n",
    "    # split the test dataset into 100 batches and evaluate using prediction endpoint\n",
    "    prediction_batches = [predictor.predict(create_prediction_request(batch)) for batch in np.array_split(test_features, 10)]\n",
    "\n",
    "    # parse protobuf responses to extract predicted labels\n",
    "    extract_label = lambda x: x['label'][0]\n",
    "    test_preds = np.concatenate([np.array([extract_label(x) for x in json.loads(batch)]) for batch in prediction_batches])\n",
    "\n",
    "    # calculate accuracy\n",
    "    \n",
    "    accuracy = count_matches(test_preds, test_labels) / len(test_labels)\n",
    "    #accuracy = (test_preds == test_labels).sum() / len(test_labels)\n",
    "    \n",
    "    true_matches=get_matches(test_preds, test_labels)\n",
    "    mis_matches=get_mismatches(test_preds, test_labels)\n",
    "    # calculate recall for each class\n",
    "    recall_per_class,precision_per_class, classes = [], [], []\n",
    "    for target_label in np.unique(test_labels):\n",
    "        true_positives = len([r for r in true_matches if r==target_label])\n",
    "        recall_denominator = len ([r for r in test_labels if r==target_label])\n",
    "        recall_per_class.append(true_positives / recall_denominator)\n",
    "        precision_denominator = len([r for r in test_preds if r==target_label])\n",
    "        precision_per_class.append(true_positives / precision_denominator)\n",
    "        classes.append(label_map[target_label])\n",
    "    recall = pd.DataFrame({'recall': recall_per_class, 'class_label': classes})\n",
    "    recall.sort_values('class_label', ascending=False, inplace=True)\n",
    "    \n",
    "    precision = pd.DataFrame({'precision': precision_per_class, 'class_label': classes})\n",
    "    precision.sort_values('class_label', ascending=False, inplace=True)\n",
    "\n",
    "    # calculate confusion matrix\n",
    "    label_mapper = np.vectorize(lambda x: label_map[x])\n",
    "    confusion_matrix = pd.crosstab(label_mapper(test_labels), label_mapper(test_preds), \n",
    "                                   rownames=['Actuals'], colnames=['Predictions'], normalize='index')\n",
    "\n",
    "    # display results\n",
    "    sns.heatmap(confusion_matrix, annot=True, fmt='.2f', cmap=\"YlGnBu\").set_title('Confusion Matrix')  \n",
    "    recal_chart = recall.plot(kind='barh', x='class_label', y='recall', color='steelblue', title='Recall', legend=False)\n",
    "    recal_chart.set_ylabel('')\n",
    "    \n",
    "    precision_chart = precision.plot(kind='barh', x='class_label', y='precision', color='steelblue', title='Precision', legend=False)\n",
    "    precision_chart.set_ylabel('')\n",
    "    print('Accuracy: {:.3f}'.format(accuracy))\n",
    "    #print(recall)"
   ]
  },
  {
   "cell_type": "code",
   "execution_count": 19,
   "metadata": {},
   "outputs": [],
   "source": [
    "import numpy as np\n",
    "from sklearn.model_selection import train_test_split\n",
    "\n",
    "def transform_test_rec(row):\n",
    "    cur_row = []\n",
    "    label = \"__label__\" + row[0]  #Prefix the index-ed label with __label__\n",
    "    cur_row.append(label)\n",
    "    cur_row.append(row[1].lower()+ \" \"+ row[2].lower())\n",
    "    return cur_row\n",
    "\n",
    "def create_test_sets(input_file):\n",
    "    all_rows = []\n",
    "    with open(input_file, 'r') as csvinfile:\n",
    "        csv_reader = csv.reader(csvinfile, delimiter=',')\n",
    "        for row in csv_reader:\n",
    "            all_rows.append(row)\n",
    "    shuffle(all_rows)\n",
    "    pool = Pool(processes=multiprocessing.cpu_count())\n",
    "    transformed_rows = pool.map(transform_test_rec, all_rows)\n",
    "    pool.close() \n",
    "    pool.join()\n",
    "    test_labels=[row[0] for row in transformed_rows]\n",
    "    test_features=[row[1] for row in transformed_rows]\n",
    "    return test_features,test_labels\n",
    "     \n",
    "    \n",
    "test_features, test_labels = create_test_sets('amazon_review_polarity_csv/test_100.csv')"
   ]
  },
  {
   "cell_type": "code",
   "execution_count": 22,
   "metadata": {},
   "outputs": [
    {
     "name": "stdout",
     "output_type": "stream",
     "text": [
      "Accuracy: 0.950\n"
     ]
    },
    {
     "data": {
      "image/png": "[encoded data removed]",
      "text/plain": [
       "<Figure size 432x288 with 2 Axes>"
      ]
     },
     "metadata": {},
     "output_type": "display_data"
    },
    {
     "data": {
      "image/png": "[encoded data removed]",
      "text/plain": [
       "<Figure size 432x288 with 1 Axes>"
      ]
     },
     "metadata": {},
     "output_type": "display_data"
    },
    {
     "data": {
      "image/png": "[encoded data removed]",
      "text/plain": [
       "<Figure size 432x288 with 1 Axes>"
      ]
     },
     "metadata": {},
     "output_type": "display_data"
    }
   ],
   "source": [
    "evaluate_metrics(text_classifier,test_features,test_labels)"
   ]
  }
 ],
 "metadata": {
  "kernelspec": {
   "display_name": "conda_python3",
   "language": "python",
   "name": "conda_python3"
  },
  "language_info": {
   "codemirror_mode": {
    "name": "ipython",
    "version": 3
   },
   "file_extension": ".py",
   "mimetype": "text/x-python",
   "name": "python",
   "nbconvert_exporter": "python",
   "pygments_lexer": "ipython3",
   "version": "3.6.5"
  }
 },
 "nbformat": 4,
 "nbformat_minor": 2
}
